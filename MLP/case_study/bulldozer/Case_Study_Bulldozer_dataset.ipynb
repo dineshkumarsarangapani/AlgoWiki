{
  "nbformat": 4,
  "nbformat_minor": 0,
  "metadata": {
    "colab": {
      "provenance": [],
      "include_colab_link": true
    },
    "kernelspec": {
      "name": "python3",
      "display_name": "Python 3"
    },
    "language_info": {
      "name": "python"
    },
    "gpuClass": "standard"
  },
  "cells": [
    {
      "cell_type": "markdown",
      "metadata": {
        "id": "view-in-github",
        "colab_type": "text"
      },
      "source": [
        "<a href=\"https://colab.research.google.com/github/dineshkumarsarangapani/AlgoWiki/blob/gh-pages/MLP/case_study/bulldozer/Case_Study_Bulldozer_dataset.ipynb\" target=\"_parent\"><img src=\"https://colab.research.google.com/assets/colab-badge.svg\" alt=\"Open In Colab\"/></a>"
      ]
    },
    {
      "cell_type": "markdown",
      "source": [
        "The dataset for this colab is available: [Training and validation set](https://drive.google.com/file/d/1Ji3oeXia4H4dd4bWpxkgTRfECS6Avn1d/view?usp=sharing) and [Test dataset](https://drive.google.com/file/d/1FWyWSnHNb28bit3mj2xrW5KpcvPKglGo/view?usp=sharing). "
      ],
      "metadata": {
        "id": "x6Vpa6IYKqOO"
      }
    },
    {
      "cell_type": "markdown",
      "source": [
        "The purpose of this study was to forecast the auction sale price of a specific piece of heavy equipment (a bulldozer) based on its usage, equipment type, and configuration. The information comes from auction result postings and covers use and equipment settings.\n",
        "The RMSLE (root mean squared log error) between the actual and forecast auction prices is the competition's evaluation metric.\n",
        "\n",
        "The data page contains links to sample submission files. Files submitted should be formatted as follows:\n",
        "\n",
        "A newly created` header  `SalesID,SalePrice`;\n",
        "has two columns:\n",
        "\n",
        "`SalesID`: The validation set's SalesID in sorted order;\n",
        "`SalePrice`: Your estimated sale price."
      ],
      "metadata": {
        "id": "AgcnUgJdNktO"
      }
    },
    {
      "cell_type": "markdown",
      "source": [
        "# [Root Mean Squared Log Error (RMSLE)](https://www.kaggle.com/code/carlolepelaars/understanding-the-metric-rmsle)"
      ],
      "metadata": {
        "id": "cjbeq3WIRfQf"
      }
    },
    {
      "cell_type": "markdown",
      "source": [
        "The formula for RMSLE is as follows:\n",
        "\n",
        "$RMSLE=\\sqrt{\\frac{1}{n}\\sum_{i=1}^{n}(log(p_i +1)-log(a_i +1))^2}$\n",
        "\n",
        "where:\n",
        "\n",
        "$n$  is the total number of observations in the (public/private) data set,\n",
        "\n",
        "$p_i$  is the prediction of target, and\n",
        "\n",
        "$a_i$  is the actual target for  $i$ .\n",
        "\n",
        "$log(x)$  is the natural logarithm of  $x  ( log_e(x)$ ."
      ],
      "metadata": {
        "id": "MfgWJyEMRnIY"
      }
    },
    {
      "cell_type": "markdown",
      "source": [
        "#Prepare tools"
      ],
      "metadata": {
        "id": "bxjELoXBOpOq"
      }
    },
    {
      "cell_type": "markdown",
      "source": [
        "##Random Forest Regression\n",
        "\n",
        "Every decision tree has a significant variance, but when we mix all of them in parallel, the final variance is low since each decision tree is perfectly trained on that specific sample data, and so the outcome is dependent on numerous decision trees rather than one. In the case of a classification problem, the majority voting classifier is used to determine the final output. The final output of a regression problem is the mean of all the outputs. Aggregation is the name given to this section.\n",
        "\n",
        "Random Forest is an ensemble technique that can handle both regression and classification tasks by combining many decision trees and a technique known as Bootstrap and Aggregation, or bagging. The core idea is to use numerous decision trees to determine the final output rather than depending on individual decision trees."
      ],
      "metadata": {
        "id": "DBXWt5_u6CDp"
      }
    },
    {
      "cell_type": "code",
      "execution_count": 1,
      "metadata": {
        "id": "qBzs7gZBuMS8"
      },
      "outputs": [],
      "source": [
        "# import exploratory data analysis and plotting libraries\n",
        "import numpy as np\n",
        "import pandas as pd\n",
        "import matplotlib.pyplot as plt\n",
        "\n",
        "%matplotlib inline\n",
        "\n",
        "# models from scikit-learn\n",
        "from sklearn.ensemble import RandomForestRegressor\n",
        "\n",
        "# model evaluations\n",
        "from sklearn.model_selection import train_test_split\n",
        "from sklearn.model_selection import RandomizedSearchCV, GridSearchCV"
      ]
    },
    {
      "cell_type": "markdown",
      "source": [
        "#Inspect data"
      ],
      "metadata": {
        "id": "12dosoGSOwAG"
      }
    },
    {
      "cell_type": "markdown",
      "source": [
        "#Q1\n",
        "Import the training and validation dataset `TrainAndValid.csv` with `low_memory=False`and priint first 5 rows of the dataset. What is the `auctionerrID` for `SalesID=1139246`? \n",
        "\n"
      ],
      "metadata": {
        "id": "ShvNBef29oQW"
      }
    },
    {
      "cell_type": "code",
      "source": [
        "url ='https://github.com/dineshkumarsarangapani/Machine_learning_IITM/blob/main/MLP/case_study/bulldozer/TrainAndValidation.csv.zip?raw=true'\n",
        "\n",
        "\n",
        "train_data = pd.read_csv(url, low_memory=False, compression='zip')"
      ],
      "metadata": {
        "id": "ZdCWk9TkFKTq"
      },
      "execution_count": 2,
      "outputs": []
    },
    {
      "cell_type": "code",
      "source": [
        "train_data.head()"
      ],
      "metadata": {
        "id": "duDIh1zTFRc3",
        "outputId": "0eb8dc40-af21-4db9-e096-ef5d60120c14",
        "colab": {
          "base_uri": "https://localhost:8080/",
          "height": 386
        }
      },
      "execution_count": 3,
      "outputs": [
        {
          "output_type": "execute_result",
          "data": {
            "text/plain": [
              "   SalesID  SalePrice  MachineID  ModelID  datasource  auctioneerID  YearMade  \\\n",
              "0  1139246    66000.0     999089     3157         121           3.0      2004   \n",
              "1  1139248    57000.0     117657       77         121           3.0      1996   \n",
              "2  1139249    10000.0     434808     7009         121           3.0      2001   \n",
              "3  1139251    38500.0    1026470      332         121           3.0      2001   \n",
              "4  1139253    11000.0    1057373    17311         121           3.0      2007   \n",
              "\n",
              "   MachineHoursCurrentMeter UsageBand         saledate  ...  \\\n",
              "0                      68.0       Low  11/16/2006 0:00  ...   \n",
              "1                    4640.0       Low   3/26/2004 0:00  ...   \n",
              "2                    2838.0      High   2/26/2004 0:00  ...   \n",
              "3                    3486.0      High   5/19/2011 0:00  ...   \n",
              "4                     722.0    Medium   7/23/2009 0:00  ...   \n",
              "\n",
              "  Undercarriage_Pad_Width Stick_Length Thumb Pattern_Changer Grouser_Type  \\\n",
              "0                     NaN          NaN   NaN             NaN          NaN   \n",
              "1                     NaN          NaN   NaN             NaN          NaN   \n",
              "2                     NaN          NaN   NaN             NaN          NaN   \n",
              "3                     NaN          NaN   NaN             NaN          NaN   \n",
              "4                     NaN          NaN   NaN             NaN          NaN   \n",
              "\n",
              "  Backhoe_Mounting Blade_Type Travel_Controls Differential_Type  \\\n",
              "0              NaN        NaN             NaN          Standard   \n",
              "1              NaN        NaN             NaN          Standard   \n",
              "2              NaN        NaN             NaN               NaN   \n",
              "3              NaN        NaN             NaN               NaN   \n",
              "4              NaN        NaN             NaN               NaN   \n",
              "\n",
              "  Steering_Controls  \n",
              "0      Conventional  \n",
              "1      Conventional  \n",
              "2               NaN  \n",
              "3               NaN  \n",
              "4               NaN  \n",
              "\n",
              "[5 rows x 53 columns]"
            ],
            "text/html": [
              "\n",
              "  <div id=\"df-b9780774-6c0d-4282-bfc7-c03b59c76279\">\n",
              "    <div class=\"colab-df-container\">\n",
              "      <div>\n",
              "<style scoped>\n",
              "    .dataframe tbody tr th:only-of-type {\n",
              "        vertical-align: middle;\n",
              "    }\n",
              "\n",
              "    .dataframe tbody tr th {\n",
              "        vertical-align: top;\n",
              "    }\n",
              "\n",
              "    .dataframe thead th {\n",
              "        text-align: right;\n",
              "    }\n",
              "</style>\n",
              "<table border=\"1\" class=\"dataframe\">\n",
              "  <thead>\n",
              "    <tr style=\"text-align: right;\">\n",
              "      <th></th>\n",
              "      <th>SalesID</th>\n",
              "      <th>SalePrice</th>\n",
              "      <th>MachineID</th>\n",
              "      <th>ModelID</th>\n",
              "      <th>datasource</th>\n",
              "      <th>auctioneerID</th>\n",
              "      <th>YearMade</th>\n",
              "      <th>MachineHoursCurrentMeter</th>\n",
              "      <th>UsageBand</th>\n",
              "      <th>saledate</th>\n",
              "      <th>...</th>\n",
              "      <th>Undercarriage_Pad_Width</th>\n",
              "      <th>Stick_Length</th>\n",
              "      <th>Thumb</th>\n",
              "      <th>Pattern_Changer</th>\n",
              "      <th>Grouser_Type</th>\n",
              "      <th>Backhoe_Mounting</th>\n",
              "      <th>Blade_Type</th>\n",
              "      <th>Travel_Controls</th>\n",
              "      <th>Differential_Type</th>\n",
              "      <th>Steering_Controls</th>\n",
              "    </tr>\n",
              "  </thead>\n",
              "  <tbody>\n",
              "    <tr>\n",
              "      <th>0</th>\n",
              "      <td>1139246</td>\n",
              "      <td>66000.0</td>\n",
              "      <td>999089</td>\n",
              "      <td>3157</td>\n",
              "      <td>121</td>\n",
              "      <td>3.0</td>\n",
              "      <td>2004</td>\n",
              "      <td>68.0</td>\n",
              "      <td>Low</td>\n",
              "      <td>11/16/2006 0:00</td>\n",
              "      <td>...</td>\n",
              "      <td>NaN</td>\n",
              "      <td>NaN</td>\n",
              "      <td>NaN</td>\n",
              "      <td>NaN</td>\n",
              "      <td>NaN</td>\n",
              "      <td>NaN</td>\n",
              "      <td>NaN</td>\n",
              "      <td>NaN</td>\n",
              "      <td>Standard</td>\n",
              "      <td>Conventional</td>\n",
              "    </tr>\n",
              "    <tr>\n",
              "      <th>1</th>\n",
              "      <td>1139248</td>\n",
              "      <td>57000.0</td>\n",
              "      <td>117657</td>\n",
              "      <td>77</td>\n",
              "      <td>121</td>\n",
              "      <td>3.0</td>\n",
              "      <td>1996</td>\n",
              "      <td>4640.0</td>\n",
              "      <td>Low</td>\n",
              "      <td>3/26/2004 0:00</td>\n",
              "      <td>...</td>\n",
              "      <td>NaN</td>\n",
              "      <td>NaN</td>\n",
              "      <td>NaN</td>\n",
              "      <td>NaN</td>\n",
              "      <td>NaN</td>\n",
              "      <td>NaN</td>\n",
              "      <td>NaN</td>\n",
              "      <td>NaN</td>\n",
              "      <td>Standard</td>\n",
              "      <td>Conventional</td>\n",
              "    </tr>\n",
              "    <tr>\n",
              "      <th>2</th>\n",
              "      <td>1139249</td>\n",
              "      <td>10000.0</td>\n",
              "      <td>434808</td>\n",
              "      <td>7009</td>\n",
              "      <td>121</td>\n",
              "      <td>3.0</td>\n",
              "      <td>2001</td>\n",
              "      <td>2838.0</td>\n",
              "      <td>High</td>\n",
              "      <td>2/26/2004 0:00</td>\n",
              "      <td>...</td>\n",
              "      <td>NaN</td>\n",
              "      <td>NaN</td>\n",
              "      <td>NaN</td>\n",
              "      <td>NaN</td>\n",
              "      <td>NaN</td>\n",
              "      <td>NaN</td>\n",
              "      <td>NaN</td>\n",
              "      <td>NaN</td>\n",
              "      <td>NaN</td>\n",
              "      <td>NaN</td>\n",
              "    </tr>\n",
              "    <tr>\n",
              "      <th>3</th>\n",
              "      <td>1139251</td>\n",
              "      <td>38500.0</td>\n",
              "      <td>1026470</td>\n",
              "      <td>332</td>\n",
              "      <td>121</td>\n",
              "      <td>3.0</td>\n",
              "      <td>2001</td>\n",
              "      <td>3486.0</td>\n",
              "      <td>High</td>\n",
              "      <td>5/19/2011 0:00</td>\n",
              "      <td>...</td>\n",
              "      <td>NaN</td>\n",
              "      <td>NaN</td>\n",
              "      <td>NaN</td>\n",
              "      <td>NaN</td>\n",
              "      <td>NaN</td>\n",
              "      <td>NaN</td>\n",
              "      <td>NaN</td>\n",
              "      <td>NaN</td>\n",
              "      <td>NaN</td>\n",
              "      <td>NaN</td>\n",
              "    </tr>\n",
              "    <tr>\n",
              "      <th>4</th>\n",
              "      <td>1139253</td>\n",
              "      <td>11000.0</td>\n",
              "      <td>1057373</td>\n",
              "      <td>17311</td>\n",
              "      <td>121</td>\n",
              "      <td>3.0</td>\n",
              "      <td>2007</td>\n",
              "      <td>722.0</td>\n",
              "      <td>Medium</td>\n",
              "      <td>7/23/2009 0:00</td>\n",
              "      <td>...</td>\n",
              "      <td>NaN</td>\n",
              "      <td>NaN</td>\n",
              "      <td>NaN</td>\n",
              "      <td>NaN</td>\n",
              "      <td>NaN</td>\n",
              "      <td>NaN</td>\n",
              "      <td>NaN</td>\n",
              "      <td>NaN</td>\n",
              "      <td>NaN</td>\n",
              "      <td>NaN</td>\n",
              "    </tr>\n",
              "  </tbody>\n",
              "</table>\n",
              "<p>5 rows × 53 columns</p>\n",
              "</div>\n",
              "      <button class=\"colab-df-convert\" onclick=\"convertToInteractive('df-b9780774-6c0d-4282-bfc7-c03b59c76279')\"\n",
              "              title=\"Convert this dataframe to an interactive table.\"\n",
              "              style=\"display:none;\">\n",
              "        \n",
              "  <svg xmlns=\"http://www.w3.org/2000/svg\" height=\"24px\"viewBox=\"0 0 24 24\"\n",
              "       width=\"24px\">\n",
              "    <path d=\"M0 0h24v24H0V0z\" fill=\"none\"/>\n",
              "    <path d=\"M18.56 5.44l.94 2.06.94-2.06 2.06-.94-2.06-.94-.94-2.06-.94 2.06-2.06.94zm-11 1L8.5 8.5l.94-2.06 2.06-.94-2.06-.94L8.5 2.5l-.94 2.06-2.06.94zm10 10l.94 2.06.94-2.06 2.06-.94-2.06-.94-.94-2.06-.94 2.06-2.06.94z\"/><path d=\"M17.41 7.96l-1.37-1.37c-.4-.4-.92-.59-1.43-.59-.52 0-1.04.2-1.43.59L10.3 9.45l-7.72 7.72c-.78.78-.78 2.05 0 2.83L4 21.41c.39.39.9.59 1.41.59.51 0 1.02-.2 1.41-.59l7.78-7.78 2.81-2.81c.8-.78.8-2.07 0-2.86zM5.41 20L4 18.59l7.72-7.72 1.47 1.35L5.41 20z\"/>\n",
              "  </svg>\n",
              "      </button>\n",
              "      \n",
              "  <style>\n",
              "    .colab-df-container {\n",
              "      display:flex;\n",
              "      flex-wrap:wrap;\n",
              "      gap: 12px;\n",
              "    }\n",
              "\n",
              "    .colab-df-convert {\n",
              "      background-color: #E8F0FE;\n",
              "      border: none;\n",
              "      border-radius: 50%;\n",
              "      cursor: pointer;\n",
              "      display: none;\n",
              "      fill: #1967D2;\n",
              "      height: 32px;\n",
              "      padding: 0 0 0 0;\n",
              "      width: 32px;\n",
              "    }\n",
              "\n",
              "    .colab-df-convert:hover {\n",
              "      background-color: #E2EBFA;\n",
              "      box-shadow: 0px 1px 2px rgba(60, 64, 67, 0.3), 0px 1px 3px 1px rgba(60, 64, 67, 0.15);\n",
              "      fill: #174EA6;\n",
              "    }\n",
              "\n",
              "    [theme=dark] .colab-df-convert {\n",
              "      background-color: #3B4455;\n",
              "      fill: #D2E3FC;\n",
              "    }\n",
              "\n",
              "    [theme=dark] .colab-df-convert:hover {\n",
              "      background-color: #434B5C;\n",
              "      box-shadow: 0px 1px 3px 1px rgba(0, 0, 0, 0.15);\n",
              "      filter: drop-shadow(0px 1px 2px rgba(0, 0, 0, 0.3));\n",
              "      fill: #FFFFFF;\n",
              "    }\n",
              "  </style>\n",
              "\n",
              "      <script>\n",
              "        const buttonEl =\n",
              "          document.querySelector('#df-b9780774-6c0d-4282-bfc7-c03b59c76279 button.colab-df-convert');\n",
              "        buttonEl.style.display =\n",
              "          google.colab.kernel.accessAllowed ? 'block' : 'none';\n",
              "\n",
              "        async function convertToInteractive(key) {\n",
              "          const element = document.querySelector('#df-b9780774-6c0d-4282-bfc7-c03b59c76279');\n",
              "          const dataTable =\n",
              "            await google.colab.kernel.invokeFunction('convertToInteractive',\n",
              "                                                     [key], {});\n",
              "          if (!dataTable) return;\n",
              "\n",
              "          const docLinkHtml = 'Like what you see? Visit the ' +\n",
              "            '<a target=\"_blank\" href=https://colab.research.google.com/notebooks/data_table.ipynb>data table notebook</a>'\n",
              "            + ' to learn more about interactive tables.';\n",
              "          element.innerHTML = '';\n",
              "          dataTable['output_type'] = 'display_data';\n",
              "          await google.colab.output.renderOutput(dataTable, element);\n",
              "          const docLink = document.createElement('div');\n",
              "          docLink.innerHTML = docLinkHtml;\n",
              "          element.appendChild(docLink);\n",
              "        }\n",
              "      </script>\n",
              "    </div>\n",
              "  </div>\n",
              "  "
            ]
          },
          "metadata": {},
          "execution_count": 3
        }
      ]
    },
    {
      "cell_type": "code",
      "source": [
        "train_data.columns"
      ],
      "metadata": {
        "id": "pBZE3EreHOjN",
        "outputId": "0cf1e547-a05d-445a-e6b1-326c4275500d",
        "colab": {
          "base_uri": "https://localhost:8080/"
        }
      },
      "execution_count": 4,
      "outputs": [
        {
          "output_type": "execute_result",
          "data": {
            "text/plain": [
              "Index(['SalesID', 'SalePrice', 'MachineID', 'ModelID', 'datasource',\n",
              "       'auctioneerID', 'YearMade', 'MachineHoursCurrentMeter', 'UsageBand',\n",
              "       'saledate', 'fiModelDesc', 'fiBaseModel', 'fiSecondaryDesc',\n",
              "       'fiModelSeries', 'fiModelDescriptor', 'ProductSize',\n",
              "       'fiProductClassDesc', 'state', 'ProductGroup', 'ProductGroupDesc',\n",
              "       'Drive_System', 'Enclosure', 'Forks', 'Pad_Type', 'Ride_Control',\n",
              "       'Stick', 'Transmission', 'Turbocharged', 'Blade_Extension',\n",
              "       'Blade_Width', 'Enclosure_Type', 'Engine_Horsepower', 'Hydraulics',\n",
              "       'Pushblock', 'Ripper', 'Scarifier', 'Tip_Control', 'Tire_Size',\n",
              "       'Coupler', 'Coupler_System', 'Grouser_Tracks', 'Hydraulics_Flow',\n",
              "       'Track_Type', 'Undercarriage_Pad_Width', 'Stick_Length', 'Thumb',\n",
              "       'Pattern_Changer', 'Grouser_Type', 'Backhoe_Mounting', 'Blade_Type',\n",
              "       'Travel_Controls', 'Differential_Type', 'Steering_Controls'],\n",
              "      dtype='object')"
            ]
          },
          "metadata": {},
          "execution_count": 4
        }
      ]
    },
    {
      "cell_type": "code",
      "source": [
        "train_data.shape"
      ],
      "metadata": {
        "id": "gF-ZoWf_HhKp",
        "outputId": "c7e10551-5ef8-4323-e2ed-d74d98a30780",
        "colab": {
          "base_uri": "https://localhost:8080/"
        }
      },
      "execution_count": 5,
      "outputs": [
        {
          "output_type": "execute_result",
          "data": {
            "text/plain": [
              "(412698, 53)"
            ]
          },
          "metadata": {},
          "execution_count": 5
        }
      ]
    },
    {
      "cell_type": "markdown",
      "source": [
        "#Q2\n",
        "How many non-null values are there in the state column?\n",
        "\n"
      ],
      "metadata": {
        "id": "CNZojXK7_OqI"
      }
    },
    {
      "cell_type": "code",
      "source": [
        "train_data['state'].notnull().sum()"
      ],
      "metadata": {
        "id": "eo4beS0AHMc9",
        "outputId": "79344be8-2fe0-4c7f-e898-af5fccefb3f5",
        "colab": {
          "base_uri": "https://localhost:8080/"
        }
      },
      "execution_count": 6,
      "outputs": [
        {
          "output_type": "execute_result",
          "data": {
            "text/plain": [
              "412698"
            ]
          },
          "metadata": {},
          "execution_count": 6
        }
      ]
    },
    {
      "cell_type": "code",
      "source": [
        "train_data['state'].notnull()"
      ],
      "metadata": {
        "id": "wEzfZ_f6HmiU",
        "outputId": "ab878767-9a67-412b-90e7-e1712a0a89a6",
        "colab": {
          "base_uri": "https://localhost:8080/"
        }
      },
      "execution_count": 7,
      "outputs": [
        {
          "output_type": "execute_result",
          "data": {
            "text/plain": [
              "0         True\n",
              "1         True\n",
              "2         True\n",
              "3         True\n",
              "4         True\n",
              "          ... \n",
              "412693    True\n",
              "412694    True\n",
              "412695    True\n",
              "412696    True\n",
              "412697    True\n",
              "Name: state, Length: 412698, dtype: bool"
            ]
          },
          "metadata": {},
          "execution_count": 7
        }
      ]
    },
    {
      "cell_type": "code",
      "source": [
        "train_data['state'].count()"
      ],
      "metadata": {
        "id": "9VYDgk2AHTmE",
        "outputId": "272a187f-bd32-4243-dc86-3018c20c8a5b",
        "colab": {
          "base_uri": "https://localhost:8080/"
        }
      },
      "execution_count": 8,
      "outputs": [
        {
          "output_type": "execute_result",
          "data": {
            "text/plain": [
              "412698"
            ]
          },
          "metadata": {},
          "execution_count": 8
        }
      ]
    },
    {
      "cell_type": "markdown",
      "source": [
        "# Which of the following columns have missing values?\n"
      ],
      "metadata": {
        "id": "5AmjsQ-RH9B_"
      }
    },
    {
      "cell_type": "code",
      "source": [
        "train_data.isnull().sum()"
      ],
      "metadata": {
        "id": "scdAHyPmHXPT",
        "outputId": "e15990c7-ed39-4a4b-bfa4-bb09a95eda55",
        "colab": {
          "base_uri": "https://localhost:8080/"
        }
      },
      "execution_count": 9,
      "outputs": [
        {
          "output_type": "execute_result",
          "data": {
            "text/plain": [
              "SalesID                          0\n",
              "SalePrice                        0\n",
              "MachineID                        0\n",
              "ModelID                          0\n",
              "datasource                       0\n",
              "auctioneerID                 20136\n",
              "YearMade                         0\n",
              "MachineHoursCurrentMeter    265194\n",
              "UsageBand                   339028\n",
              "saledate                         0\n",
              "fiModelDesc                      0\n",
              "fiBaseModel                      0\n",
              "fiSecondaryDesc             140727\n",
              "fiModelSeries               354031\n",
              "fiModelDescriptor           337882\n",
              "ProductSize                 216605\n",
              "fiProductClassDesc               0\n",
              "state                            0\n",
              "ProductGroup                     0\n",
              "ProductGroupDesc                 0\n",
              "Drive_System                305611\n",
              "Enclosure                      334\n",
              "Forks                       214983\n",
              "Pad_Type                    331602\n",
              "Ride_Control                259970\n",
              "Stick                       331602\n",
              "Transmission                224691\n",
              "Turbocharged                331602\n",
              "Blade_Extension             386715\n",
              "Blade_Width                 386715\n",
              "Enclosure_Type              386715\n",
              "Engine_Horsepower           386715\n",
              "Hydraulics                   82565\n",
              "Pushblock                   386715\n",
              "Ripper                      305753\n",
              "Scarifier                   386704\n",
              "Tip_Control                 386715\n",
              "Tire_Size                   315060\n",
              "Coupler                     192019\n",
              "Coupler_System              367724\n",
              "Grouser_Tracks              367823\n",
              "Hydraulics_Flow             367823\n",
              "Track_Type                  310505\n",
              "Undercarriage_Pad_Width     309782\n",
              "Stick_Length                310437\n",
              "Thumb                       310366\n",
              "Pattern_Changer             310437\n",
              "Grouser_Type                310505\n",
              "Backhoe_Mounting            331986\n",
              "Blade_Type                  330823\n",
              "Travel_Controls             330821\n",
              "Differential_Type           341134\n",
              "Steering_Controls           341176\n",
              "dtype: int64"
            ]
          },
          "metadata": {},
          "execution_count": 9
        }
      ]
    },
    {
      "cell_type": "code",
      "source": [
        "train_data.sort_values('saledate', inplace=True)"
      ],
      "metadata": {
        "id": "oMUNwA0EIRN3"
      },
      "execution_count": 10,
      "outputs": []
    },
    {
      "cell_type": "code",
      "source": [
        "train_data.loc[train_data['SalesID'] == 1646770]['saledate']"
      ],
      "metadata": {
        "id": "vwK8obCRKO6K",
        "outputId": "ce30fb4d-147e-482a-d88a-1047c26e9ac6",
        "colab": {
          "base_uri": "https://localhost:8080/"
        }
      },
      "execution_count": 11,
      "outputs": [
        {
          "output_type": "execute_result",
          "data": {
            "text/plain": [
              "205615    1/17/1989 0:00\n",
              "Name: saledate, dtype: object"
            ]
          },
          "metadata": {},
          "execution_count": 11
        }
      ]
    },
    {
      "cell_type": "code",
      "source": [
        "train_data.loc[train_data['MachineID'] == 1194089]['YearMade']"
      ],
      "metadata": {
        "id": "DVk1N45AK7D8",
        "outputId": "f60d9bc8-302b-47ca-a3d6-1978646b71f9",
        "colab": {
          "base_uri": "https://localhost:8080/"
        }
      },
      "execution_count": 12,
      "outputs": [
        {
          "output_type": "execute_result",
          "data": {
            "text/plain": [
              "274835    1980\n",
              "Name: YearMade, dtype: int64"
            ]
          },
          "metadata": {},
          "execution_count": 12
        }
      ]
    },
    {
      "cell_type": "code",
      "source": [
        "train_data_copy = train_data.copy()"
      ],
      "metadata": {
        "id": "XJskvzhQMWpG"
      },
      "execution_count": 13,
      "outputs": []
    },
    {
      "cell_type": "code",
      "source": [
        "train_data['saledate']"
      ],
      "metadata": {
        "id": "4cw9_gzzMcy8",
        "outputId": "72f7ffa5-e59a-46e0-f9db-c5ea7abf409f",
        "colab": {
          "base_uri": "https://localhost:8080/"
        }
      },
      "execution_count": 14,
      "outputs": [
        {
          "output_type": "execute_result",
          "data": {
            "text/plain": [
              "405675     1/1/2012 0:00\n",
              "268962    1/10/2003 0:00\n",
              "221519    1/10/2003 0:00\n",
              "283617    1/10/2003 0:00\n",
              "122970    1/10/2003 0:00\n",
              "               ...      \n",
              "19497      9/9/2010 0:00\n",
              "103424     9/9/2010 0:00\n",
              "19280      9/9/2010 0:00\n",
              "19335      9/9/2010 0:00\n",
              "22602      9/9/2011 0:00\n",
              "Name: saledate, Length: 412698, dtype: object"
            ]
          },
          "metadata": {},
          "execution_count": 14
        }
      ]
    },
    {
      "cell_type": "markdown",
      "source": [
        "Separate the saledate in saleYear,saleMonth,saleDay,saleDayOfWeek and saleDayOfYear and saledate column. Which numeric columns from the following options have null values"
      ],
      "metadata": {
        "id": "h_bRKwVNM0J0"
      }
    },
    {
      "cell_type": "code",
      "source": [
        "train_data['saledate']= pd.to_datetime(train_data['saledate'])\n",
        "\n",
        "train_data['saleYear'] = train_data['saledate'].dt.year\n",
        "train_data['saleYear']"
      ],
      "metadata": {
        "id": "NSC9ptT2MzeL",
        "outputId": "7b70c538-b80e-4d0a-d6ea-1b1eb1148a29",
        "colab": {
          "base_uri": "https://localhost:8080/"
        }
      },
      "execution_count": 15,
      "outputs": [
        {
          "output_type": "execute_result",
          "data": {
            "text/plain": [
              "405675    2012\n",
              "268962    2003\n",
              "221519    2003\n",
              "283617    2003\n",
              "122970    2003\n",
              "          ... \n",
              "19497     2010\n",
              "103424    2010\n",
              "19280     2010\n",
              "19335     2010\n",
              "22602     2011\n",
              "Name: saleYear, Length: 412698, dtype: int64"
            ]
          },
          "metadata": {},
          "execution_count": 15
        }
      ]
    },
    {
      "cell_type": "code",
      "source": [
        "train_data['saleMonth'] = train_data['saledate'].dt.month\n",
        "train_data['saleMonth']"
      ],
      "metadata": {
        "id": "xsL6budGMsu0",
        "outputId": "12154bcf-17fc-4831-a07d-36b3be8d8f24",
        "colab": {
          "base_uri": "https://localhost:8080/"
        }
      },
      "execution_count": 16,
      "outputs": [
        {
          "output_type": "execute_result",
          "data": {
            "text/plain": [
              "405675    1\n",
              "268962    1\n",
              "221519    1\n",
              "283617    1\n",
              "122970    1\n",
              "         ..\n",
              "19497     9\n",
              "103424    9\n",
              "19280     9\n",
              "19335     9\n",
              "22602     9\n",
              "Name: saleMonth, Length: 412698, dtype: int64"
            ]
          },
          "metadata": {},
          "execution_count": 16
        }
      ]
    },
    {
      "cell_type": "code",
      "source": [
        "train_data['saleDay'] = train_data['saledate'].dt.day\n",
        "train_data['saleDay']"
      ],
      "metadata": {
        "id": "jo_GFwoANZuQ",
        "outputId": "c73c7ee5-b095-4866-8333-de70b774473a",
        "colab": {
          "base_uri": "https://localhost:8080/"
        }
      },
      "execution_count": 17,
      "outputs": [
        {
          "output_type": "execute_result",
          "data": {
            "text/plain": [
              "405675     1\n",
              "268962    10\n",
              "221519    10\n",
              "283617    10\n",
              "122970    10\n",
              "          ..\n",
              "19497      9\n",
              "103424     9\n",
              "19280      9\n",
              "19335      9\n",
              "22602      9\n",
              "Name: saleDay, Length: 412698, dtype: int64"
            ]
          },
          "metadata": {},
          "execution_count": 17
        }
      ]
    },
    {
      "cell_type": "code",
      "source": [
        "train_data['saleDayOfWeek'] = train_data['saledate'].dt.dayofweek\n",
        "train_data['saleDayOfWeek']"
      ],
      "metadata": {
        "id": "aZXsqERmNt71",
        "outputId": "46cc115d-403c-497b-fdc1-84325c8b6539",
        "colab": {
          "base_uri": "https://localhost:8080/"
        }
      },
      "execution_count": 18,
      "outputs": [
        {
          "output_type": "execute_result",
          "data": {
            "text/plain": [
              "405675    6\n",
              "268962    4\n",
              "221519    4\n",
              "283617    4\n",
              "122970    4\n",
              "         ..\n",
              "19497     3\n",
              "103424    3\n",
              "19280     3\n",
              "19335     3\n",
              "22602     4\n",
              "Name: saleDayOfWeek, Length: 412698, dtype: int64"
            ]
          },
          "metadata": {},
          "execution_count": 18
        }
      ]
    },
    {
      "cell_type": "code",
      "source": [
        "train_data['saleDayOfYear'] = train_data['saledate'].dt.dayofyear\n",
        "train_data['saleDayOfYear']"
      ],
      "metadata": {
        "id": "GGc_9m5wN3_p",
        "outputId": "e314a041-e8ef-4e1f-c66b-c58dba02e0ad",
        "colab": {
          "base_uri": "https://localhost:8080/"
        }
      },
      "execution_count": 19,
      "outputs": [
        {
          "output_type": "execute_result",
          "data": {
            "text/plain": [
              "405675      1\n",
              "268962     10\n",
              "221519     10\n",
              "283617     10\n",
              "122970     10\n",
              "         ... \n",
              "19497     252\n",
              "103424    252\n",
              "19280     252\n",
              "19335     252\n",
              "22602     252\n",
              "Name: saleDayOfYear, Length: 412698, dtype: int64"
            ]
          },
          "metadata": {},
          "execution_count": 19
        }
      ]
    },
    {
      "cell_type": "code",
      "source": [
        "train_data.isnull().sum()"
      ],
      "metadata": {
        "id": "CXzWOShvN9OG",
        "outputId": "8e0605fb-1b18-4e45-c288-e924bcbb625b",
        "colab": {
          "base_uri": "https://localhost:8080/"
        }
      },
      "execution_count": 20,
      "outputs": [
        {
          "output_type": "execute_result",
          "data": {
            "text/plain": [
              "SalesID                          0\n",
              "SalePrice                        0\n",
              "MachineID                        0\n",
              "ModelID                          0\n",
              "datasource                       0\n",
              "auctioneerID                 20136\n",
              "YearMade                         0\n",
              "MachineHoursCurrentMeter    265194\n",
              "UsageBand                   339028\n",
              "saledate                         0\n",
              "fiModelDesc                      0\n",
              "fiBaseModel                      0\n",
              "fiSecondaryDesc             140727\n",
              "fiModelSeries               354031\n",
              "fiModelDescriptor           337882\n",
              "ProductSize                 216605\n",
              "fiProductClassDesc               0\n",
              "state                            0\n",
              "ProductGroup                     0\n",
              "ProductGroupDesc                 0\n",
              "Drive_System                305611\n",
              "Enclosure                      334\n",
              "Forks                       214983\n",
              "Pad_Type                    331602\n",
              "Ride_Control                259970\n",
              "Stick                       331602\n",
              "Transmission                224691\n",
              "Turbocharged                331602\n",
              "Blade_Extension             386715\n",
              "Blade_Width                 386715\n",
              "Enclosure_Type              386715\n",
              "Engine_Horsepower           386715\n",
              "Hydraulics                   82565\n",
              "Pushblock                   386715\n",
              "Ripper                      305753\n",
              "Scarifier                   386704\n",
              "Tip_Control                 386715\n",
              "Tire_Size                   315060\n",
              "Coupler                     192019\n",
              "Coupler_System              367724\n",
              "Grouser_Tracks              367823\n",
              "Hydraulics_Flow             367823\n",
              "Track_Type                  310505\n",
              "Undercarriage_Pad_Width     309782\n",
              "Stick_Length                310437\n",
              "Thumb                       310366\n",
              "Pattern_Changer             310437\n",
              "Grouser_Type                310505\n",
              "Backhoe_Mounting            331986\n",
              "Blade_Type                  330823\n",
              "Travel_Controls             330821\n",
              "Differential_Type           341134\n",
              "Steering_Controls           341176\n",
              "saleYear                         0\n",
              "saleMonth                        0\n",
              "saleDay                          0\n",
              "saleDayOfWeek                    0\n",
              "saleDayOfYear                    0\n",
              "dtype: int64"
            ]
          },
          "metadata": {},
          "execution_count": 20
        }
      ]
    },
    {
      "cell_type": "code",
      "source": [
        "train_data[\"state\"] = pd.Categorical(train_data[\"state\"]).codes\n",
        "train_data[\"state\"]"
      ],
      "metadata": {
        "id": "ILiWfHb8ODKL",
        "outputId": "b83b5ce8-1046-4c7c-b55c-caeff2d363cc",
        "colab": {
          "base_uri": "https://localhost:8080/"
        }
      },
      "execution_count": 21,
      "outputs": [
        {
          "output_type": "execute_result",
          "data": {
            "text/plain": [
              "405675    21\n",
              "268962    37\n",
              "221519    37\n",
              "283617    37\n",
              "122970    37\n",
              "          ..\n",
              "19497     28\n",
              "103424     4\n",
              "19280     42\n",
              "19335     43\n",
              "22602      4\n",
              "Name: state, Length: 412698, dtype: int8"
            ]
          },
          "metadata": {},
          "execution_count": 21
        }
      ]
    },
    {
      "cell_type": "code",
      "source": [
        "train_data[\"UsageBand\"] = pd.Categorical(train_data[\"UsageBand\"]).codes\n",
        "train_data[\"UsageBand\"]"
      ],
      "metadata": {
        "id": "EZ1vh60-P2Xe",
        "outputId": "7116553e-5a46-4e79-aab4-6212cdc68cc6",
        "colab": {
          "base_uri": "https://localhost:8080/"
        }
      },
      "execution_count": 22,
      "outputs": [
        {
          "output_type": "execute_result",
          "data": {
            "text/plain": [
              "405675   -1\n",
              "268962   -1\n",
              "221519   -1\n",
              "283617   -1\n",
              "122970   -1\n",
              "         ..\n",
              "19497     1\n",
              "103424   -1\n",
              "19280     1\n",
              "19335     0\n",
              "22602     2\n",
              "Name: UsageBand, Length: 412698, dtype: int8"
            ]
          },
          "metadata": {},
          "execution_count": 22
        }
      ]
    },
    {
      "cell_type": "code",
      "source": [
        "train_data.head()"
      ],
      "metadata": {
        "id": "UZaG9ttZP78w",
        "outputId": "dd912300-ce38-4135-c154-630b62973c72",
        "colab": {
          "base_uri": "https://localhost:8080/",
          "height": 386
        }
      },
      "execution_count": 23,
      "outputs": [
        {
          "output_type": "execute_result",
          "data": {
            "text/plain": [
              "        SalesID  SalePrice  MachineID  ModelID  datasource  auctioneerID  \\\n",
              "405675  4449186    46173.2    2318824    26964         173          99.0   \n",
              "268962  1806686     8000.0    1077085     9549         132           2.0   \n",
              "221519  1691274    20500.0    1233251    22933         132           2.0   \n",
              "283617  1895558     9000.0    1458959     6054         132           2.0   \n",
              "122970  1467430    17500.0    1339914     4200         132           2.0   \n",
              "\n",
              "        YearMade  MachineHoursCurrentMeter  UsageBand   saledate  ...  \\\n",
              "405675      1996                       0.0         -1 2012-01-01  ...   \n",
              "268962      1998                       NaN         -1 2003-01-10  ...   \n",
              "221519      1994                       NaN         -1 2003-01-10  ...   \n",
              "283617      1994                       NaN         -1 2003-01-10  ...   \n",
              "122970      1988                       NaN         -1 2003-01-10  ...   \n",
              "\n",
              "           Backhoe_Mounting           Blade_Type      Travel_Controls  \\\n",
              "405675  None or Unspecified  None or Unspecified  None or Unspecified   \n",
              "268962                  NaN                  NaN                  NaN   \n",
              "221519                  NaN                  NaN                  NaN   \n",
              "283617                  NaN                  NaN                  NaN   \n",
              "122970                  NaN                  NaN                  NaN   \n",
              "\n",
              "       Differential_Type Steering_Controls saleYear saleMonth  saleDay  \\\n",
              "405675               NaN               NaN     2012         1        1   \n",
              "268962               NaN               NaN     2003         1       10   \n",
              "221519               NaN               NaN     2003         1       10   \n",
              "283617               NaN               NaN     2003         1       10   \n",
              "122970               NaN               NaN     2003         1       10   \n",
              "\n",
              "       saleDayOfWeek saleDayOfYear  \n",
              "405675             6             1  \n",
              "268962             4            10  \n",
              "221519             4            10  \n",
              "283617             4            10  \n",
              "122970             4            10  \n",
              "\n",
              "[5 rows x 58 columns]"
            ],
            "text/html": [
              "\n",
              "  <div id=\"df-f0889fb9-0bcd-44e0-96bf-04b5b90ea92a\">\n",
              "    <div class=\"colab-df-container\">\n",
              "      <div>\n",
              "<style scoped>\n",
              "    .dataframe tbody tr th:only-of-type {\n",
              "        vertical-align: middle;\n",
              "    }\n",
              "\n",
              "    .dataframe tbody tr th {\n",
              "        vertical-align: top;\n",
              "    }\n",
              "\n",
              "    .dataframe thead th {\n",
              "        text-align: right;\n",
              "    }\n",
              "</style>\n",
              "<table border=\"1\" class=\"dataframe\">\n",
              "  <thead>\n",
              "    <tr style=\"text-align: right;\">\n",
              "      <th></th>\n",
              "      <th>SalesID</th>\n",
              "      <th>SalePrice</th>\n",
              "      <th>MachineID</th>\n",
              "      <th>ModelID</th>\n",
              "      <th>datasource</th>\n",
              "      <th>auctioneerID</th>\n",
              "      <th>YearMade</th>\n",
              "      <th>MachineHoursCurrentMeter</th>\n",
              "      <th>UsageBand</th>\n",
              "      <th>saledate</th>\n",
              "      <th>...</th>\n",
              "      <th>Backhoe_Mounting</th>\n",
              "      <th>Blade_Type</th>\n",
              "      <th>Travel_Controls</th>\n",
              "      <th>Differential_Type</th>\n",
              "      <th>Steering_Controls</th>\n",
              "      <th>saleYear</th>\n",
              "      <th>saleMonth</th>\n",
              "      <th>saleDay</th>\n",
              "      <th>saleDayOfWeek</th>\n",
              "      <th>saleDayOfYear</th>\n",
              "    </tr>\n",
              "  </thead>\n",
              "  <tbody>\n",
              "    <tr>\n",
              "      <th>405675</th>\n",
              "      <td>4449186</td>\n",
              "      <td>46173.2</td>\n",
              "      <td>2318824</td>\n",
              "      <td>26964</td>\n",
              "      <td>173</td>\n",
              "      <td>99.0</td>\n",
              "      <td>1996</td>\n",
              "      <td>0.0</td>\n",
              "      <td>-1</td>\n",
              "      <td>2012-01-01</td>\n",
              "      <td>...</td>\n",
              "      <td>None or Unspecified</td>\n",
              "      <td>None or Unspecified</td>\n",
              "      <td>None or Unspecified</td>\n",
              "      <td>NaN</td>\n",
              "      <td>NaN</td>\n",
              "      <td>2012</td>\n",
              "      <td>1</td>\n",
              "      <td>1</td>\n",
              "      <td>6</td>\n",
              "      <td>1</td>\n",
              "    </tr>\n",
              "    <tr>\n",
              "      <th>268962</th>\n",
              "      <td>1806686</td>\n",
              "      <td>8000.0</td>\n",
              "      <td>1077085</td>\n",
              "      <td>9549</td>\n",
              "      <td>132</td>\n",
              "      <td>2.0</td>\n",
              "      <td>1998</td>\n",
              "      <td>NaN</td>\n",
              "      <td>-1</td>\n",
              "      <td>2003-01-10</td>\n",
              "      <td>...</td>\n",
              "      <td>NaN</td>\n",
              "      <td>NaN</td>\n",
              "      <td>NaN</td>\n",
              "      <td>NaN</td>\n",
              "      <td>NaN</td>\n",
              "      <td>2003</td>\n",
              "      <td>1</td>\n",
              "      <td>10</td>\n",
              "      <td>4</td>\n",
              "      <td>10</td>\n",
              "    </tr>\n",
              "    <tr>\n",
              "      <th>221519</th>\n",
              "      <td>1691274</td>\n",
              "      <td>20500.0</td>\n",
              "      <td>1233251</td>\n",
              "      <td>22933</td>\n",
              "      <td>132</td>\n",
              "      <td>2.0</td>\n",
              "      <td>1994</td>\n",
              "      <td>NaN</td>\n",
              "      <td>-1</td>\n",
              "      <td>2003-01-10</td>\n",
              "      <td>...</td>\n",
              "      <td>NaN</td>\n",
              "      <td>NaN</td>\n",
              "      <td>NaN</td>\n",
              "      <td>NaN</td>\n",
              "      <td>NaN</td>\n",
              "      <td>2003</td>\n",
              "      <td>1</td>\n",
              "      <td>10</td>\n",
              "      <td>4</td>\n",
              "      <td>10</td>\n",
              "    </tr>\n",
              "    <tr>\n",
              "      <th>283617</th>\n",
              "      <td>1895558</td>\n",
              "      <td>9000.0</td>\n",
              "      <td>1458959</td>\n",
              "      <td>6054</td>\n",
              "      <td>132</td>\n",
              "      <td>2.0</td>\n",
              "      <td>1994</td>\n",
              "      <td>NaN</td>\n",
              "      <td>-1</td>\n",
              "      <td>2003-01-10</td>\n",
              "      <td>...</td>\n",
              "      <td>NaN</td>\n",
              "      <td>NaN</td>\n",
              "      <td>NaN</td>\n",
              "      <td>NaN</td>\n",
              "      <td>NaN</td>\n",
              "      <td>2003</td>\n",
              "      <td>1</td>\n",
              "      <td>10</td>\n",
              "      <td>4</td>\n",
              "      <td>10</td>\n",
              "    </tr>\n",
              "    <tr>\n",
              "      <th>122970</th>\n",
              "      <td>1467430</td>\n",
              "      <td>17500.0</td>\n",
              "      <td>1339914</td>\n",
              "      <td>4200</td>\n",
              "      <td>132</td>\n",
              "      <td>2.0</td>\n",
              "      <td>1988</td>\n",
              "      <td>NaN</td>\n",
              "      <td>-1</td>\n",
              "      <td>2003-01-10</td>\n",
              "      <td>...</td>\n",
              "      <td>NaN</td>\n",
              "      <td>NaN</td>\n",
              "      <td>NaN</td>\n",
              "      <td>NaN</td>\n",
              "      <td>NaN</td>\n",
              "      <td>2003</td>\n",
              "      <td>1</td>\n",
              "      <td>10</td>\n",
              "      <td>4</td>\n",
              "      <td>10</td>\n",
              "    </tr>\n",
              "  </tbody>\n",
              "</table>\n",
              "<p>5 rows × 58 columns</p>\n",
              "</div>\n",
              "      <button class=\"colab-df-convert\" onclick=\"convertToInteractive('df-f0889fb9-0bcd-44e0-96bf-04b5b90ea92a')\"\n",
              "              title=\"Convert this dataframe to an interactive table.\"\n",
              "              style=\"display:none;\">\n",
              "        \n",
              "  <svg xmlns=\"http://www.w3.org/2000/svg\" height=\"24px\"viewBox=\"0 0 24 24\"\n",
              "       width=\"24px\">\n",
              "    <path d=\"M0 0h24v24H0V0z\" fill=\"none\"/>\n",
              "    <path d=\"M18.56 5.44l.94 2.06.94-2.06 2.06-.94-2.06-.94-.94-2.06-.94 2.06-2.06.94zm-11 1L8.5 8.5l.94-2.06 2.06-.94-2.06-.94L8.5 2.5l-.94 2.06-2.06.94zm10 10l.94 2.06.94-2.06 2.06-.94-2.06-.94-.94-2.06-.94 2.06-2.06.94z\"/><path d=\"M17.41 7.96l-1.37-1.37c-.4-.4-.92-.59-1.43-.59-.52 0-1.04.2-1.43.59L10.3 9.45l-7.72 7.72c-.78.78-.78 2.05 0 2.83L4 21.41c.39.39.9.59 1.41.59.51 0 1.02-.2 1.41-.59l7.78-7.78 2.81-2.81c.8-.78.8-2.07 0-2.86zM5.41 20L4 18.59l7.72-7.72 1.47 1.35L5.41 20z\"/>\n",
              "  </svg>\n",
              "      </button>\n",
              "      \n",
              "  <style>\n",
              "    .colab-df-container {\n",
              "      display:flex;\n",
              "      flex-wrap:wrap;\n",
              "      gap: 12px;\n",
              "    }\n",
              "\n",
              "    .colab-df-convert {\n",
              "      background-color: #E8F0FE;\n",
              "      border: none;\n",
              "      border-radius: 50%;\n",
              "      cursor: pointer;\n",
              "      display: none;\n",
              "      fill: #1967D2;\n",
              "      height: 32px;\n",
              "      padding: 0 0 0 0;\n",
              "      width: 32px;\n",
              "    }\n",
              "\n",
              "    .colab-df-convert:hover {\n",
              "      background-color: #E2EBFA;\n",
              "      box-shadow: 0px 1px 2px rgba(60, 64, 67, 0.3), 0px 1px 3px 1px rgba(60, 64, 67, 0.15);\n",
              "      fill: #174EA6;\n",
              "    }\n",
              "\n",
              "    [theme=dark] .colab-df-convert {\n",
              "      background-color: #3B4455;\n",
              "      fill: #D2E3FC;\n",
              "    }\n",
              "\n",
              "    [theme=dark] .colab-df-convert:hover {\n",
              "      background-color: #434B5C;\n",
              "      box-shadow: 0px 1px 3px 1px rgba(0, 0, 0, 0.15);\n",
              "      filter: drop-shadow(0px 1px 2px rgba(0, 0, 0, 0.3));\n",
              "      fill: #FFFFFF;\n",
              "    }\n",
              "  </style>\n",
              "\n",
              "      <script>\n",
              "        const buttonEl =\n",
              "          document.querySelector('#df-f0889fb9-0bcd-44e0-96bf-04b5b90ea92a button.colab-df-convert');\n",
              "        buttonEl.style.display =\n",
              "          google.colab.kernel.accessAllowed ? 'block' : 'none';\n",
              "\n",
              "        async function convertToInteractive(key) {\n",
              "          const element = document.querySelector('#df-f0889fb9-0bcd-44e0-96bf-04b5b90ea92a');\n",
              "          const dataTable =\n",
              "            await google.colab.kernel.invokeFunction('convertToInteractive',\n",
              "                                                     [key], {});\n",
              "          if (!dataTable) return;\n",
              "\n",
              "          const docLinkHtml = 'Like what you see? Visit the ' +\n",
              "            '<a target=\"_blank\" href=https://colab.research.google.com/notebooks/data_table.ipynb>data table notebook</a>'\n",
              "            + ' to learn more about interactive tables.';\n",
              "          element.innerHTML = '';\n",
              "          dataTable['output_type'] = 'display_data';\n",
              "          await google.colab.output.renderOutput(dataTable, element);\n",
              "          const docLink = document.createElement('div');\n",
              "          docLink.innerHTML = docLinkHtml;\n",
              "          element.appendChild(docLink);\n",
              "        }\n",
              "      </script>\n",
              "    </div>\n",
              "  </div>\n",
              "  "
            ]
          },
          "metadata": {},
          "execution_count": 23
        }
      ]
    },
    {
      "cell_type": "code",
      "source": [
        "bool_cols = [col for col in train_data \n",
        "             if np.equal(len(train_data[col].dropna().unique()), 2)]\n",
        "bool_cols"
      ],
      "metadata": {
        "id": "AlrCYAtUSlJa",
        "outputId": "3fc29bee-a468-4b03-b872-974668efad22",
        "colab": {
          "base_uri": "https://localhost:8080/"
        }
      },
      "execution_count": 24,
      "outputs": [
        {
          "output_type": "execute_result",
          "data": {
            "text/plain": [
              "['Forks',\n",
              " 'Stick',\n",
              " 'Turbocharged',\n",
              " 'Blade_Extension',\n",
              " 'Engine_Horsepower',\n",
              " 'Pushblock',\n",
              " 'Scarifier',\n",
              " 'Coupler_System',\n",
              " 'Grouser_Tracks',\n",
              " 'Track_Type',\n",
              " 'Backhoe_Mounting']"
            ]
          },
          "metadata": {},
          "execution_count": 24
        }
      ]
    },
    {
      "cell_type": "code",
      "source": [
        "train_data['Differential_Type'].isnull()"
      ],
      "metadata": {
        "id": "6rtupisUS56Y",
        "outputId": "889016f0-e2e6-4a21-a2ff-e57800d3369a",
        "colab": {
          "base_uri": "https://localhost:8080/"
        }
      },
      "execution_count": 25,
      "outputs": [
        {
          "output_type": "execute_result",
          "data": {
            "text/plain": [
              "405675    True\n",
              "268962    True\n",
              "221519    True\n",
              "283617    True\n",
              "122970    True\n",
              "          ... \n",
              "19497     True\n",
              "103424    True\n",
              "19280     True\n",
              "19335     True\n",
              "22602     True\n",
              "Name: Differential_Type, Length: 412698, dtype: bool"
            ]
          },
          "metadata": {},
          "execution_count": 25
        }
      ]
    },
    {
      "cell_type": "code",
      "source": [
        "missing_cols = train_data.columns[train_data.isnull().any()]\n",
        "missing_cols"
      ],
      "metadata": {
        "id": "P8C1-J_8eKkr",
        "outputId": "f5a96cba-4105-4985-92bc-755f8341b82e",
        "colab": {
          "base_uri": "https://localhost:8080/"
        }
      },
      "execution_count": 26,
      "outputs": [
        {
          "output_type": "execute_result",
          "data": {
            "text/plain": [
              "Index(['auctioneerID', 'MachineHoursCurrentMeter', 'fiSecondaryDesc',\n",
              "       'fiModelSeries', 'fiModelDescriptor', 'ProductSize', 'Drive_System',\n",
              "       'Enclosure', 'Forks', 'Pad_Type', 'Ride_Control', 'Stick',\n",
              "       'Transmission', 'Turbocharged', 'Blade_Extension', 'Blade_Width',\n",
              "       'Enclosure_Type', 'Engine_Horsepower', 'Hydraulics', 'Pushblock',\n",
              "       'Ripper', 'Scarifier', 'Tip_Control', 'Tire_Size', 'Coupler',\n",
              "       'Coupler_System', 'Grouser_Tracks', 'Hydraulics_Flow', 'Track_Type',\n",
              "       'Undercarriage_Pad_Width', 'Stick_Length', 'Thumb', 'Pattern_Changer',\n",
              "       'Grouser_Type', 'Backhoe_Mounting', 'Blade_Type', 'Travel_Controls',\n",
              "       'Differential_Type', 'Steering_Controls'],\n",
              "      dtype='object')"
            ]
          },
          "metadata": {},
          "execution_count": 26
        }
      ]
    },
    {
      "cell_type": "code",
      "source": [
        "\n",
        "for col in missing_cols:\n",
        "  train_data[col+'_is_missing'] = train_data[col].isnull()"
      ],
      "metadata": {
        "id": "nnwF30t0VNy7"
      },
      "execution_count": 27,
      "outputs": []
    },
    {
      "cell_type": "code",
      "source": [
        "train_data.dtypes"
      ],
      "metadata": {
        "id": "v1ZousDbYKdz",
        "outputId": "c9634222-8673-42bc-8130-759922296de9",
        "colab": {
          "base_uri": "https://localhost:8080/"
        }
      },
      "execution_count": 28,
      "outputs": [
        {
          "output_type": "execute_result",
          "data": {
            "text/plain": [
              "SalesID                           int64\n",
              "SalePrice                       float64\n",
              "MachineID                         int64\n",
              "ModelID                           int64\n",
              "datasource                        int64\n",
              "                                 ...   \n",
              "Backhoe_Mounting_is_missing        bool\n",
              "Blade_Type_is_missing              bool\n",
              "Travel_Controls_is_missing         bool\n",
              "Differential_Type_is_missing       bool\n",
              "Steering_Controls_is_missing       bool\n",
              "Length: 97, dtype: object"
            ]
          },
          "metadata": {},
          "execution_count": 28
        }
      ]
    },
    {
      "cell_type": "code",
      "source": [
        "category_cols = train_data.select_dtypes(include='category').columns\n",
        "category_cols"
      ],
      "metadata": {
        "id": "PLFlta1AYifd",
        "outputId": "843b1ca1-df3e-4687-8c96-b554b8c4b51f",
        "colab": {
          "base_uri": "https://localhost:8080/"
        }
      },
      "execution_count": 29,
      "outputs": [
        {
          "output_type": "execute_result",
          "data": {
            "text/plain": [
              "Index([], dtype='object')"
            ]
          },
          "metadata": {},
          "execution_count": 29
        }
      ]
    },
    {
      "cell_type": "code",
      "source": [
        "num_cols = train_data.select_dtypes(include=['number']).columns\n",
        "num_cols"
      ],
      "metadata": {
        "id": "uIhkSYiiYt9n",
        "outputId": "00f687e6-9c4c-4074-9548-52946cdcd463",
        "colab": {
          "base_uri": "https://localhost:8080/"
        }
      },
      "execution_count": 30,
      "outputs": [
        {
          "output_type": "execute_result",
          "data": {
            "text/plain": [
              "Index(['SalesID', 'SalePrice', 'MachineID', 'ModelID', 'datasource',\n",
              "       'auctioneerID', 'YearMade', 'MachineHoursCurrentMeter', 'UsageBand',\n",
              "       'state', 'saleYear', 'saleMonth', 'saleDay', 'saleDayOfWeek',\n",
              "       'saleDayOfYear'],\n",
              "      dtype='object')"
            ]
          },
          "metadata": {},
          "execution_count": 30
        }
      ]
    },
    {
      "cell_type": "code",
      "source": [
        "for col in category_cols:\n",
        "  train_data[col] = pd.Categorical(train_data[col]).codes\n",
        "  train_data[col]"
      ],
      "metadata": {
        "id": "sFsRYzL5Zhf7"
      },
      "execution_count": 31,
      "outputs": []
    },
    {
      "cell_type": "code",
      "source": [
        "for col in num_cols:\n",
        "  train_data[col] = train_data[col].fillna(-1)\n",
        "  train_data[col].head()"
      ],
      "metadata": {
        "id": "9pZay7p0Zqmm"
      },
      "execution_count": 32,
      "outputs": []
    },
    {
      "cell_type": "code",
      "source": [
        "train_data[train_data['SalesID'] == 1646770]['Differential_Type_is_missing']"
      ],
      "metadata": {
        "id": "FKBfa_g_Z14m",
        "outputId": "817021e5-aa93-4145-f596-c61c698d5efc",
        "colab": {
          "base_uri": "https://localhost:8080/"
        }
      },
      "execution_count": 33,
      "outputs": [
        {
          "output_type": "execute_result",
          "data": {
            "text/plain": [
              "205615    True\n",
              "Name: Differential_Type_is_missing, dtype: bool"
            ]
          },
          "metadata": {},
          "execution_count": 33
        }
      ]
    },
    {
      "cell_type": "code",
      "source": [
        "train_data.isnull().sum()"
      ],
      "metadata": {
        "id": "WswHzezQaDLO",
        "outputId": "32b1370c-80ea-413d-9537-8a09c1c4a944",
        "colab": {
          "base_uri": "https://localhost:8080/"
        }
      },
      "execution_count": 34,
      "outputs": [
        {
          "output_type": "execute_result",
          "data": {
            "text/plain": [
              "SalesID                         0\n",
              "SalePrice                       0\n",
              "MachineID                       0\n",
              "ModelID                         0\n",
              "datasource                      0\n",
              "                               ..\n",
              "Backhoe_Mounting_is_missing     0\n",
              "Blade_Type_is_missing           0\n",
              "Travel_Controls_is_missing      0\n",
              "Differential_Type_is_missing    0\n",
              "Steering_Controls_is_missing    0\n",
              "Length: 97, dtype: int64"
            ]
          },
          "metadata": {},
          "execution_count": 34
        }
      ]
    },
    {
      "cell_type": "code",
      "source": [
        "training_set = train_data[train_data['saleYear'] < 2011]\n",
        "training_set.shape"
      ],
      "metadata": {
        "id": "yP4J9p0haWV1",
        "outputId": "76751de4-60a9-4b27-c66e-6302b4cf1d65",
        "colab": {
          "base_uri": "https://localhost:8080/"
        }
      },
      "execution_count": 35,
      "outputs": [
        {
          "output_type": "execute_result",
          "data": {
            "text/plain": [
              "(365928, 97)"
            ]
          },
          "metadata": {},
          "execution_count": 35
        }
      ]
    },
    {
      "cell_type": "code",
      "source": [
        "validation_set = train_data[train_data['saleYear'] >= 2011]\n",
        "validation_set.shape"
      ],
      "metadata": {
        "id": "sXxVrtVdasmv",
        "outputId": "30633eb3-999b-495a-a88a-5ceb6d0a0bc7",
        "colab": {
          "base_uri": "https://localhost:8080/"
        }
      },
      "execution_count": 36,
      "outputs": [
        {
          "output_type": "execute_result",
          "data": {
            "text/plain": [
              "(46770, 97)"
            ]
          },
          "metadata": {},
          "execution_count": 36
        }
      ]
    },
    {
      "cell_type": "code",
      "source": [],
      "metadata": {
        "id": "p-YuSbq8azO2"
      },
      "execution_count": 36,
      "outputs": []
    }
  ]
}